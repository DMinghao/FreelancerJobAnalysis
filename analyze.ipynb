{
 "metadata": {
  "language_info": {
   "codemirror_mode": {
    "name": "ipython",
    "version": 3
   },
   "file_extension": ".py",
   "mimetype": "text/x-python",
   "name": "python",
   "nbconvert_exporter": "python",
   "pygments_lexer": "ipython3",
   "version": "3.8.5-final"
  },
  "orig_nbformat": 2,
  "kernelspec": {
   "name": "python38564bitbcc4d76a06654eb692dff75496a67b7b",
   "display_name": "Python 3.8.5 64-bit"
  }
 },
 "nbformat": 4,
 "nbformat_minor": 2,
 "cells": [
  {
   "cell_type": "code",
   "execution_count": null,
   "metadata": {},
   "outputs": [],
   "source": [
    "import pandas as pd\n",
    "import numpy as np\n",
    "import nltk"
   ]
  },
  {
   "cell_type": "code",
   "execution_count": null,
   "metadata": {
    "tags": []
   },
   "outputs": [],
   "source": [
    "nltk.download('punkt')"
   ]
  },
  {
   "cell_type": "code",
   "execution_count": null,
   "metadata": {},
   "outputs": [],
   "source": [
    "import os\n",
    "import nltk.corpus\n",
    "from nltk.probability import FreqDist\n",
    "from nltk.tokenize import word_tokenize"
   ]
  },
  {
   "cell_type": "code",
   "execution_count": null,
   "metadata": {},
   "outputs": [],
   "source": [
    "# read result \n",
    "result = pd.read_csv(\"result.csv\") \n",
    "Tags = result[\"Tag\"]\n",
    "Tags"
   ]
  },
  {
   "cell_type": "code",
   "execution_count": null,
   "metadata": {},
   "outputs": [],
   "source": [
    "allTag = []\n",
    "for row in result.index: \n",
    "    list1 = list(map(str, result['Tag'][row].replace('[','').replace(']','').replace('\\'','').split(',')))\n",
    "    for x in list1: \n",
    "        allTag.append(x.replace(' ', ''))\n"
   ]
  },
  {
   "cell_type": "code",
   "execution_count": null,
   "metadata": {},
   "outputs": [],
   "source": [
    "# find most popular 20tag \n",
    "# token = word_tokenize(allTag)\n",
    "token = allTag\n",
    "fdist = FreqDist(token)\n",
    "fdist20 = fdist.most_common(20)\n",
    "fdist20"
   ]
  },
  {
   "cell_type": "code",
   "execution_count": null,
   "metadata": {},
   "outputs": [],
   "source": [
    "import matplotlib.pyplot as plt"
   ]
  },
  {
   "cell_type": "code",
   "execution_count": null,
   "metadata": {},
   "outputs": [],
   "source": [
    "plt.style.use('ggplot')\n",
    "\n",
    "x = []\n",
    "count = []\n",
    "for i in range(len(fdist20)): \n",
    "    x.append(fdist20[i][0])\n",
    "    count.append(fdist20[i][1])\n",
    "\n",
    "x_pos = [i for i, _ in enumerate(x)]\n",
    "plt.barh(x_pos, count, color = '#f81c1c')\n",
    "for index, value in enumerate(count):\n",
    "    plt.text(value, index, str(value))\n",
    "\n",
    "plt.xticks(rotation=90)\n",
    "plt.ylabel(\"Tag\")\n",
    "plt.xlabel(\"Number of Listing\")\n",
    "plt.title(\"Most Common tags\")\n",
    "\n",
    "plt.yticks(x_pos, x)\n",
    "\n",
    "plt.show()"
   ]
  },
  {
   "cell_type": "code",
   "execution_count": null,
   "metadata": {
    "tags": []
   },
   "outputs": [],
   "source": [
    "# clean up price\n",
    "price = result[\"Price/Budget\"]\n",
    "price = price.str.replace('Avg Bid', '')\n",
    "\n",
    "for i in range(len(price)): \n",
    "    price[i] = price[i].replace('$', '')\n",
    "    # handel range price\n",
    "    if '-' in price[i]: \n",
    "        a,b = price[i].split('-')\n",
    "        if '/ hr' in a: \n",
    "            a = float(a.replace('/ hr', '')) \n",
    "            # * 40\n",
    "        else: \n",
    "            a = float(a)\n",
    "        if '/ hr' in b: \n",
    "            b = float(b.replace('/ hr', '')) \n",
    "            # * 40\n",
    "        else: \n",
    "            b = float(b)\n",
    "        price[i] = (a+b)/2\n",
    "    else: \n",
    "        if 'min' in price[i] or '/ hr' in price[i]: \n",
    "            price[i] = price[i].replace('min', '')\n",
    "            price[i] = float(price[i].replace('/ hr', '')) \n",
    "            # * 40\n",
    "        price[i] = float(price[i])\n",
    "totalPrice = sum(price)\n",
    "averagePrice = price.mean()\n",
    "averagePrice"
   ]
  },
  {
   "cell_type": "code",
   "execution_count": null,
   "metadata": {},
   "outputs": [],
   "source": [
    "# get bid weighted average price \n",
    "Bids = result[\"Bids/Entries\"]\n",
    "Bids = Bids.str.replace(' bids', '').str.replace(' entries', '')\n",
    "Bids = Bids.astype(int)\n",
    "sumBids = sum(Bids)\n",
    "bidWeight = Bids.map(lambda x : x/sumBids)\n",
    "bidWeight"
   ]
  },
  {
   "cell_type": "code",
   "execution_count": null,
   "metadata": {
    "tags": []
   },
   "outputs": [],
   "source": [
    "# get tag frequency weight\n",
    "total = 0\n",
    "dictFdist = dict(fdist)\n",
    "for x in dictFdist: \n",
    "    total += dictFdist[x]\n",
    "for x in dictFdist: \n",
    "    dictFdist[x] = (dictFdist[x]/total)\n",
    "freqWeight = dictFdist"
   ]
  },
  {
   "cell_type": "code",
   "execution_count": null,
   "metadata": {
    "tags": []
   },
   "outputs": [],
   "source": [
    "# get total weighted value of each tag \n",
    "labels = {}\n",
    "for i in range(len(price)): \n",
    "    list1 = list(map(str, result['Tag'][i].replace('[','').replace(']','').replace('\\'','').split(',')))\n",
    "    for x in list1: \n",
    "        x = x.replace(' ','')\n",
    "        # priceWeight = price[i] * bidWeight[i]\n",
    "        if x not in labels:\n",
    "            labels[x] = float(0)\n",
    "        else: \n",
    "            labels[x] += (price[i] * freqWeight[x] * bidWeight[i])"
   ]
  },
  {
   "cell_type": "code",
   "execution_count": null,
   "metadata": {
    "tags": []
   },
   "outputs": [],
   "source": [
    "# tag value index \n",
    "plt.style.use('ggplot')\n",
    "\n",
    "x = []\n",
    "count = []\n",
    "for i in range(len(fdist20)): \n",
    "    key = fdist20[i][0]\n",
    "    x.append(key)\n",
    "    count.append(labels[key])\n",
    "\n",
    "x_pos = [i for i, _ in enumerate(x)]\n",
    "plt.barh(x_pos, count, color = '#f81c1c')\n",
    "for index, value in enumerate(count):\n",
    "    plt.text(value, index, str(\"{:.6f}\".format(value)))\n",
    "\n",
    "plt.ylabel(\"Tag\")\n",
    "plt.xlabel(\"Tag average value\")\n",
    "plt.title(\"Tag value\")\n",
    "\n",
    "plt.yticks(x_pos, x)\n",
    "\n",
    "plt.show()"
   ]
  },
  {
   "cell_type": "code",
   "execution_count": null,
   "metadata": {},
   "outputs": [],
   "source": [
    "# sorted tag value index\n",
    "labels = sorted(labels.items(), key=lambda x: x[1], reverse=True)\n",
    "\n",
    "plt.style.use('ggplot')\n",
    "\n",
    "x = []\n",
    "count = []\n",
    "for i in range(0, 20): \n",
    "    key = list(labels)[i][0]\n",
    "    x.append(key)\n",
    "    count.append(dict(labels)[key])\n",
    "\n",
    "x_pos = [i for i, _ in enumerate(x)]\n",
    "plt.barh(x_pos, count, color = '#f81c1c')\n",
    "for index, value in enumerate(count):\n",
    "    plt.text(value, index, str(\"{:.6f}\".format(value)))\n",
    "\n",
    "plt.ylabel(\"Tag\")\n",
    "plt.xlabel(\"Tag average value\")\n",
    "plt.title(\"Tag value (sorted)\")\n",
    "\n",
    "plt.yticks(x_pos, x)\n",
    "\n",
    "plt.show()"
   ]
  },
  {
   "cell_type": "code",
   "execution_count": null,
   "metadata": {},
   "outputs": [],
   "source": []
  }
 ]
}